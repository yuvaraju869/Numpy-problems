{
  "nbformat": 4,
  "nbformat_minor": 0,
  "metadata": {
    "colab": {
      "provenance": []
    },
    "kernelspec": {
      "name": "python3",
      "display_name": "Python 3"
    },
    "language_info": {
      "name": "python"
    }
  },
  "cells": [
    {
      "cell_type": "code",
      "execution_count": 1,
      "metadata": {
        "colab": {
          "base_uri": "https://localhost:8080/"
        },
        "id": "2KA6C33toDdx",
        "outputId": "7c5dd409-2330-443b-9b76-920795e42806"
      },
      "outputs": [
        {
          "output_type": "stream",
          "name": "stdout",
          "text": [
            "1. Null vector with 1 at the fifth position:\n",
            "[0. 0. 0. 0. 1. 0. 0. 0. 0. 0.]\n"
          ]
        }
      ],
      "source": [
        "# 1. Create a null vector of size 10 but the fifth value which is 1.\n",
        "import numpy as np\n",
        "null_vector = np.zeros(10)\n",
        "null_vector[4] = 1\n",
        "print(\"1. Null vector with 1 at the fifth position:\")\n",
        "print(null_vector)"
      ]
    },
    {
      "cell_type": "code",
      "source": [
        "# 2. Create a vector with values ranging from 10 to 49.\n",
        "import numpy as np\n",
        "vector_range = np.arange(10, 50)\n",
        "print(\"\\n2. Vector with values ranging from 10 to 49:\")\n",
        "print(vector_range)"
      ],
      "metadata": {
        "colab": {
          "base_uri": "https://localhost:8080/"
        },
        "id": "RstONxb1pRpv",
        "outputId": "55ae06cd-ba28-4f12-bfb8-5300cff5622b"
      },
      "execution_count": 2,
      "outputs": [
        {
          "output_type": "stream",
          "name": "stdout",
          "text": [
            "\n",
            "2. Vector with values ranging from 10 to 49:\n",
            "[10 11 12 13 14 15 16 17 18 19 20 21 22 23 24 25 26 27 28 29 30 31 32 33\n",
            " 34 35 36 37 38 39 40 41 42 43 44 45 46 47 48 49]\n"
          ]
        }
      ]
    },
    {
      "cell_type": "code",
      "source": [
        "# 3. Create a 3x3 matrix with values ranging from 0 to 8\n",
        "import numpy as np\n",
        "matrix = np.arange(9).reshape(3, 3)\n",
        "print(\"\\n3. 3x3 matrix with values ranging from 0 to 8:\")\n",
        "print(matrix)"
      ],
      "metadata": {
        "colab": {
          "base_uri": "https://localhost:8080/"
        },
        "id": "Wdm-LFpIph6J",
        "outputId": "6c3dc81a-5cbb-4be9-a2ab-17d05671833a"
      },
      "execution_count": 3,
      "outputs": [
        {
          "output_type": "stream",
          "name": "stdout",
          "text": [
            "\n",
            "3. 3x3 matrix with values ranging from 0 to 8:\n",
            "[[0 1 2]\n",
            " [3 4 5]\n",
            " [6 7 8]]\n"
          ]
        }
      ]
    },
    {
      "cell_type": "code",
      "source": [
        "# 4. Find indices of non-zero elements from [1,2,0,0,4,0]\n",
        "import numpy as np\n",
        "non_zero_elements = np.array([1, 2, 0, 0, 4, 0])\n",
        "non_zero_indices = np.nonzero(non_zero_elements)\n",
        "print(\"\\n4. Indices of non-zero elements:\")\n",
        "print(non_zero_indices)"
      ],
      "metadata": {
        "colab": {
          "base_uri": "https://localhost:8080/"
        },
        "id": "BigS6MH1piFF",
        "outputId": "df123053-170b-4baa-eb68-87a35780136d"
      },
      "execution_count": 4,
      "outputs": [
        {
          "output_type": "stream",
          "name": "stdout",
          "text": [
            "\n",
            "4. Indices of non-zero elements:\n",
            "(array([0, 1, 4]),)\n"
          ]
        }
      ]
    },
    {
      "cell_type": "code",
      "source": [
        "# 5. Create a 10x10 array with random values and find the minimum and maximum values.\n",
        "import numpy as np\n",
        "random_array = np.random.rand(10, 10)\n",
        "min_value = np.min(random_array)\n",
        "max_value = np.max(random_array)\n",
        "print(\"\\n5. 10x10 array with random values:\")\n",
        "print(random_array)\n",
        "print(\"   Minimum value:\", min_value)\n",
        "print(\"   Maximum value:\", max_value)"
      ],
      "metadata": {
        "colab": {
          "base_uri": "https://localhost:8080/"
        },
        "id": "6e1Ci0P_piQh",
        "outputId": "dff18ef0-1507-4a54-f258-f090f67719d6"
      },
      "execution_count": 5,
      "outputs": [
        {
          "output_type": "stream",
          "name": "stdout",
          "text": [
            "\n",
            "5. 10x10 array with random values:\n",
            "[[2.67113471e-01 7.00564220e-01 4.00352152e-01 5.45096151e-01\n",
            "  4.04361756e-01 1.22272757e-01 8.79572561e-01 6.86006816e-01\n",
            "  5.95725375e-01 7.07449439e-01]\n",
            " [4.86255734e-02 8.35911364e-02 1.12172038e-01 1.75016612e-01\n",
            "  3.45824483e-04 2.61756103e-01 7.43669924e-01 8.50132797e-01\n",
            "  1.17331397e-01 2.44663939e-01]\n",
            " [2.70352325e-01 6.17183670e-01 4.89730342e-01 9.79271257e-01\n",
            "  5.43727642e-01 5.92214038e-01 6.81249629e-01 3.45223867e-01\n",
            "  9.94205861e-01 7.03520860e-01]\n",
            " [1.43734651e-01 2.48007050e-01 2.64621408e-01 4.92110981e-01\n",
            "  7.32446425e-01 2.53625414e-01 3.48535428e-01 6.76618615e-01\n",
            "  2.69746983e-01 6.49812822e-01]\n",
            " [7.45963035e-01 4.20292716e-01 1.41275253e-01 9.99181657e-01\n",
            "  9.25805068e-01 6.66493144e-01 4.08057411e-01 5.75424721e-01\n",
            "  3.36509091e-01 8.04861409e-01]\n",
            " [9.06936653e-01 6.92698933e-01 5.40800713e-01 1.20383759e-01\n",
            "  7.82474894e-01 2.61997476e-02 5.88110315e-02 7.62226859e-01\n",
            "  9.57164031e-01 1.14649464e-01]\n",
            " [6.52512918e-01 3.40682047e-01 4.09319540e-02 3.86141663e-01\n",
            "  2.47254691e-01 2.04611074e-01 5.68071971e-01 2.09704095e-01\n",
            "  6.31170876e-01 6.05315191e-01]\n",
            " [2.99256439e-01 7.54456284e-01 5.43742303e-01 7.82290477e-01\n",
            "  9.16634800e-01 3.32532570e-01 4.87468796e-01 5.40105910e-01\n",
            "  3.26032279e-01 3.07339273e-01]\n",
            " [7.35766249e-01 6.48203693e-01 5.22135454e-01 9.98867141e-01\n",
            "  6.22547167e-01 3.46318577e-03 2.30232146e-01 6.95500584e-01\n",
            "  8.33128643e-01 5.10025924e-01]\n",
            " [3.29823803e-02 2.43155221e-01 1.21617624e-01 2.96070988e-01\n",
            "  6.90914306e-01 5.68562553e-01 6.69655244e-01 1.90983130e-01\n",
            "  7.07523809e-01 6.05058756e-01]]\n",
            "   Minimum value: 0.0003458244830486512\n",
            "   Maximum value: 0.999181657276853\n"
          ]
        }
      ]
    },
    {
      "cell_type": "code",
      "source": [
        "# 6. Create a random vector of size 30 and find the mean value.\n",
        "import numpy as np\n",
        "random_vector = np.random.rand(30)\n",
        "mean_value = np.mean(random_vector)\n",
        "print(\"\\n6. Random vector of size 30:\")\n",
        "print(random_vector)\n",
        "print(\"   Mean value:\", mean_value)"
      ],
      "metadata": {
        "colab": {
          "base_uri": "https://localhost:8080/"
        },
        "id": "sUwoRLCOpjFf",
        "outputId": "e16c30d5-3f5b-4821-8d57-5b4ed6c5ef51"
      },
      "execution_count": 6,
      "outputs": [
        {
          "output_type": "stream",
          "name": "stdout",
          "text": [
            "\n",
            "6. Random vector of size 30:\n",
            "[0.21066456 0.99651163 0.49758802 0.80923725 0.01888423 0.79100085\n",
            " 0.66854423 0.02867519 0.27722015 0.55765768 0.94730318 0.61932575\n",
            " 0.76435339 0.49590482 0.85243128 0.03605731 0.66142584 0.02753125\n",
            " 0.77282921 0.30591159 0.75941819 0.57329479 0.67914447 0.54260833\n",
            " 0.0302341  0.60007841 0.02068665 0.86048715 0.93110144 0.16245453]\n",
            "   Mean value: 0.5166188493750916\n"
          ]
        }
      ]
    }
  ]
}